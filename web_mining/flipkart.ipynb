{
 "cells": [
  {
   "cell_type": "code",
   "execution_count": 1,
   "metadata": {},
   "outputs": [
    {
     "name": "stdout",
     "output_type": "stream",
     "text": [
      "flipkart{i+1}\n",
      "flipkart{i+1}\n",
      "flipkart{i+1}\n",
      "flipkart{i+1}\n",
      "flipkart{i+1}\n",
      "flipkart{i+1}\n",
      "flipkart{i+1}\n",
      "flipkart{i+1}\n",
      "flipkart{i+1}\n",
      "flipkart{i+1}\n"
     ]
    }
   ],
   "source": [
    "for i in range(10):\n",
    "    print('flipkart{i+1}')"
   ]
  },
  {
   "cell_type": "code",
   "execution_count": 2,
   "metadata": {},
   "outputs": [],
   "source": [
    "import requests\n",
    "from bs4 import BeautifulSoup\n",
    "import pandas as pd"
   ]
  },
  {
   "cell_type": "code",
   "execution_count": 3,
   "metadata": {},
   "outputs": [],
   "source": [
    "query = 'bags'\n",
    "page = 1\n",
    "datalist = [] # empty"
   ]
  },
  {
   "cell_type": "code",
   "execution_count": 11,
   "metadata": {},
   "outputs": [],
   "source": [
    "link = f'https://www.flipkart.com/search?q={query}&page={page}'"
   ]
  },
  {
   "cell_type": "code",
   "execution_count": 12,
   "metadata": {},
   "outputs": [],
   "source": [
    "def getpage(link):\n",
    "    try:\n",
    "        page = requests.get(link)\n",
    "        print('data loaded')\n",
    "        return BeautifulSoup(page.text,'lxml')\n",
    "    except Exception as error:\n",
    "        print('Error',error)"
   ]
  },
  {
   "cell_type": "code",
   "execution_count": 13,
   "metadata": {},
   "outputs": [],
   "source": [
    "def extract(pagedata):\n",
    "    cards =  soup.find_all('div',{'class':'_373qXS'})\n",
    "    size = len(cards)\n",
    "    if size > 0: # if products are found\n",
    "        for pr in cards: # pr is single product\n",
    "            name = pr.find('a',{'class':'_2WkVRV'}).text\n",
    "            price = pr.find('div',{'class':'_30jeq3'}).text[1:] # start from 2 char\n",
    "            try: \n",
    "                discount = pr.find('div',{'class':'_3Ay6Sb'}).text\n",
    "            except:\n",
    "                discount = 0\n",
    "            datalist.append({\n",
    "                'name':name,\n",
    "                'price':price,\n",
    "                'discount':discount\n",
    "            })\n",
    "        return True\n",
    "    else:\n",
    "        print('no product found')\n",
    "        return False"
   ]
  },
  {
   "cell_type": "code",
   "execution_count": 14,
   "metadata": {},
   "outputs": [],
   "source": [
    "def save(filename):\n",
    "    df = pd.DataFrame(datalist)\n",
    "    df.to_csv(f'{filename}.csv')\n",
    "    return df\n",
    "    print('saved')"
   ]
  },
  {
   "cell_type": "code",
   "execution_count": 15,
   "metadata": {},
   "outputs": [
    {
     "name": "stdout",
     "output_type": "stream",
     "text": [
      "extracting data from page : 1\n",
      "data loaded\n"
     ]
    },
    {
     "ename": "AttributeError",
     "evalue": "'NoneType' object has no attribute 'text'",
     "output_type": "error",
     "traceback": [
      "\u001b[1;31m---------------------------------------------------------------------------\u001b[0m",
      "\u001b[1;31mAttributeError\u001b[0m                            Traceback (most recent call last)",
      "\u001b[1;32mc:\\vscode\\PYTHON\\web_mining\\flipkart.ipynb Cell 8'\u001b[0m in \u001b[0;36m<module>\u001b[1;34m\u001b[0m\n\u001b[0;32m      <a href='vscode-notebook-cell:/c%3A/vscode/PYTHON/web_mining/flipkart.ipynb#ch0000007?line=6'>7</a>\u001b[0m soup \u001b[39m=\u001b[39m getpage(link)\n\u001b[0;32m      <a href='vscode-notebook-cell:/c%3A/vscode/PYTHON/web_mining/flipkart.ipynb#ch0000007?line=7'>8</a>\u001b[0m \u001b[39mif\u001b[39;00m soup:                                \u001b[39m# if we get page data\u001b[39;00m\n\u001b[1;32m----> <a href='vscode-notebook-cell:/c%3A/vscode/PYTHON/web_mining/flipkart.ipynb#ch0000007?line=8'>9</a>\u001b[0m     status \u001b[39m=\u001b[39m  extract(soup)\n\u001b[0;32m     <a href='vscode-notebook-cell:/c%3A/vscode/PYTHON/web_mining/flipkart.ipynb#ch0000007?line=9'>10</a>\u001b[0m     \u001b[39mif\u001b[39;00m \u001b[39mnot\u001b[39;00m status:\n\u001b[0;32m     <a href='vscode-notebook-cell:/c%3A/vscode/PYTHON/web_mining/flipkart.ipynb#ch0000007?line=10'>11</a>\u001b[0m         \u001b[39mprint\u001b[39m(\u001b[39m'\u001b[39m\u001b[39mproducts extracted\u001b[39m\u001b[39m'\u001b[39m)\n",
      "\u001b[1;32mc:\\vscode\\PYTHON\\web_mining\\flipkart.ipynb Cell 6'\u001b[0m in \u001b[0;36mextract\u001b[1;34m(pagedata)\u001b[0m\n\u001b[0;32m      <a href='vscode-notebook-cell:/c%3A/vscode/PYTHON/web_mining/flipkart.ipynb#ch0000005?line=3'>4</a>\u001b[0m \u001b[39mif\u001b[39;00m size \u001b[39m>\u001b[39m \u001b[39m0\u001b[39m: \u001b[39m# if products are found\u001b[39;00m\n\u001b[0;32m      <a href='vscode-notebook-cell:/c%3A/vscode/PYTHON/web_mining/flipkart.ipynb#ch0000005?line=4'>5</a>\u001b[0m     \u001b[39mfor\u001b[39;00m pr \u001b[39min\u001b[39;00m cards: \u001b[39m# pr is single product\u001b[39;00m\n\u001b[1;32m----> <a href='vscode-notebook-cell:/c%3A/vscode/PYTHON/web_mining/flipkart.ipynb#ch0000005?line=5'>6</a>\u001b[0m         name \u001b[39m=\u001b[39m pr\u001b[39m.\u001b[39;49mfind(\u001b[39m'\u001b[39;49m\u001b[39ma\u001b[39;49m\u001b[39m'\u001b[39;49m,{\u001b[39m'\u001b[39;49m\u001b[39mclass\u001b[39;49m\u001b[39m'\u001b[39;49m:\u001b[39m'\u001b[39;49m\u001b[39m_2WkVRV\u001b[39;49m\u001b[39m'\u001b[39;49m})\u001b[39m.\u001b[39;49mtext\n\u001b[0;32m      <a href='vscode-notebook-cell:/c%3A/vscode/PYTHON/web_mining/flipkart.ipynb#ch0000005?line=6'>7</a>\u001b[0m         price \u001b[39m=\u001b[39m pr\u001b[39m.\u001b[39mfind(\u001b[39m'\u001b[39m\u001b[39mdiv\u001b[39m\u001b[39m'\u001b[39m,{\u001b[39m'\u001b[39m\u001b[39mclass\u001b[39m\u001b[39m'\u001b[39m:\u001b[39m'\u001b[39m\u001b[39m_30jeq3\u001b[39m\u001b[39m'\u001b[39m})\u001b[39m.\u001b[39mtext[\u001b[39m1\u001b[39m:] \u001b[39m# start from 2 char\u001b[39;00m\n\u001b[0;32m      <a href='vscode-notebook-cell:/c%3A/vscode/PYTHON/web_mining/flipkart.ipynb#ch0000005?line=7'>8</a>\u001b[0m         \u001b[39mtry\u001b[39;00m: \n",
      "\u001b[1;31mAttributeError\u001b[0m: 'NoneType' object has no attribute 'text'"
     ]
    }
   ],
   "source": [
    "page = 1\n",
    "query = 'bags'\n",
    "datalist = [] # empty\n",
    "while True:\n",
    "    link = f'https://www.flipkart.com/search?q={query}&page={page}'\n",
    "    print('extracting data from page :',page)\n",
    "    soup = getpage(link)\n",
    "    if soup:                                # if we get page data\n",
    "        status =  extract(soup)\n",
    "        if not status:\n",
    "            print('products extracted')\n",
    "            break\n",
    "        else:\n",
    "            page += 1"
   ]
  },
  {
   "cell_type": "code",
   "execution_count": 9,
   "metadata": {},
   "outputs": [],
   "source": [
    "out = save('flipkart_bags_prices')"
   ]
  },
  {
   "cell_type": "code",
   "execution_count": null,
   "metadata": {},
   "outputs": [],
   "source": [
    "out"
   ]
  },
  {
   "cell_type": "code",
   "execution_count": null,
   "metadata": {},
   "outputs": [],
   "source": []
  }
 ],
 "metadata": {
  "interpreter": {
   "hash": "c4bb627c720bb325833297a37a3d07f2918af932b8d8e89a0df48100a492cd0a"
  },
  "kernelspec": {
   "display_name": "Python 3.10.2 64-bit",
   "language": "python",
   "name": "python3"
  },
  "language_info": {
   "codemirror_mode": {
    "name": "ipython",
    "version": 3
   },
   "file_extension": ".py",
   "mimetype": "text/x-python",
   "name": "python",
   "nbconvert_exporter": "python",
   "pygments_lexer": "ipython3",
   "version": "3.10.2"
  },
  "orig_nbformat": 4
 },
 "nbformat": 4,
 "nbformat_minor": 2
}
