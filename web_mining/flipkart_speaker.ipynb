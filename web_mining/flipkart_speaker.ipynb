{
 "cells": [
  {
   "cell_type": "code",
   "execution_count": 1,
   "metadata": {},
   "outputs": [],
   "source": [
    "import requests\n",
    "import pandas as pd\n",
    "from bs4 import BeautifulSoup"
   ]
  },
  {
   "cell_type": "code",
   "execution_count": 2,
   "metadata": {},
   "outputs": [],
   "source": [
    "query = 'speakers'\n",
    "page = 1\n",
    "datalist = [] # empty"
   ]
  },
  {
   "cell_type": "code",
   "execution_count": 3,
   "metadata": {},
   "outputs": [],
   "source": [
    "link = f'https://www.flipkart.com/search?q={query}&page={page}'"
   ]
  },
  {
   "cell_type": "code",
   "execution_count": 4,
   "metadata": {},
   "outputs": [],
   "source": [
    "def getpage(link):\n",
    "    try:\n",
    "        page = requests.get(link)\n",
    "        print('data loaded')\n",
    "        return BeautifulSoup(page.text,'lxml')\n",
    "    except Exception as error:\n",
    "        print('Error',error)"
   ]
  },
  {
   "cell_type": "code",
   "execution_count": 5,
   "metadata": {},
   "outputs": [],
   "source": [
    "def extract(pagedata):\n",
    "    cards =  soup.find_all('div',{'class':'_4ddWXP'})\n",
    "    size = len(cards)\n",
    "    if size > 0: # if products are found\n",
    "        for pr in cards: # pr is single product\n",
    "            name = pr.find('a',{'class':'s1Q9rs'}).text\n",
    "            price = pr.find('div',{'class':'_30jeq3'}).text[1:] # start from 2 char\n",
    "            try: \n",
    "                rating = pr.find('div',{'class':'_3LWZlK'}).text\n",
    "            except:\n",
    "                rating = 0\n",
    "            datalist.append({\n",
    "                'name':name,\n",
    "                'price':price,\n",
    "                'rating':rating\n",
    "            })\n",
    "        return True\n",
    "    else:\n",
    "        print('no product found')\n",
    "        return False"
   ]
  },
  {
   "cell_type": "code",
   "execution_count": 6,
   "metadata": {},
   "outputs": [],
   "source": [
    "def save(filename):\n",
    "    df = pd.DataFrame(datalist)\n",
    "    df.to_csv(f'{filename}.csv')\n",
    "    return df\n",
    "    print('saved')"
   ]
  },
  {
   "cell_type": "code",
   "execution_count": 7,
   "metadata": {},
   "outputs": [
    {
     "name": "stdout",
     "output_type": "stream",
     "text": [
      "extracting data from page : 1\n",
      "data loaded\n",
      "extracting data from page : 2\n",
      "data loaded\n",
      "extracting data from page : 3\n",
      "data loaded\n",
      "extracting data from page : 4\n",
      "data loaded\n",
      "extracting data from page : 5\n",
      "data loaded\n",
      "extracting data from page : 6\n",
      "data loaded\n",
      "extracting data from page : 7\n",
      "data loaded\n",
      "extracting data from page : 8\n",
      "data loaded\n",
      "extracting data from page : 9\n",
      "data loaded\n",
      "extracting data from page : 10\n",
      "data loaded\n",
      "extracting data from page : 11\n",
      "data loaded\n",
      "extracting data from page : 12\n",
      "data loaded\n",
      "extracting data from page : 13\n",
      "data loaded\n",
      "extracting data from page : 14\n",
      "data loaded\n",
      "extracting data from page : 15\n",
      "data loaded\n",
      "extracting data from page : 16\n",
      "data loaded\n",
      "extracting data from page : 17\n",
      "data loaded\n",
      "extracting data from page : 18\n",
      "data loaded\n",
      "extracting data from page : 19\n",
      "data loaded\n",
      "extracting data from page : 20\n",
      "data loaded\n",
      "extracting data from page : 21\n",
      "data loaded\n",
      "extracting data from page : 22\n",
      "data loaded\n",
      "extracting data from page : 23\n",
      "data loaded\n",
      "extracting data from page : 24\n",
      "data loaded\n",
      "extracting data from page : 25\n",
      "data loaded\n",
      "extracting data from page : 26\n",
      "data loaded\n",
      "no product found\n",
      "products extracted\n"
     ]
    }
   ],
   "source": [
    "page = 1\n",
    "query = 'speakers'\n",
    "datalist = [] # empty\n",
    "while True:\n",
    "    link = f'https://www.flipkart.com/search?q={query}&page={page}'\n",
    "    print('extracting data from page :',page)\n",
    "    soup = getpage(link)\n",
    "    if soup:                                # if we get page data\n",
    "        status =  extract(soup)\n",
    "        if not status:\n",
    "            print('products extracted')\n",
    "            break\n",
    "        else:\n",
    "            page += 1"
   ]
  },
  {
   "cell_type": "code",
   "execution_count": 8,
   "metadata": {},
   "outputs": [],
   "source": [
    "out = save('flipkart_speaker_prices')"
   ]
  },
  {
   "cell_type": "code",
   "execution_count": 9,
   "metadata": {},
   "outputs": [
    {
     "data": {
      "text/html": [
       "<div>\n",
       "<style scoped>\n",
       "    .dataframe tbody tr th:only-of-type {\n",
       "        vertical-align: middle;\n",
       "    }\n",
       "\n",
       "    .dataframe tbody tr th {\n",
       "        vertical-align: top;\n",
       "    }\n",
       "\n",
       "    .dataframe thead th {\n",
       "        text-align: right;\n",
       "    }\n",
       "</style>\n",
       "<table border=\"1\" class=\"dataframe\">\n",
       "  <thead>\n",
       "    <tr style=\"text-align: right;\">\n",
       "      <th></th>\n",
       "      <th>name</th>\n",
       "      <th>price</th>\n",
       "      <th>rating</th>\n",
       "    </tr>\n",
       "  </thead>\n",
       "  <tbody>\n",
       "    <tr>\n",
       "      <th>0</th>\n",
       "      <td>SHOPLINE SP-T-113-SPKR1 9 W Bluetooth Speaker</td>\n",
       "      <td>349</td>\n",
       "      <td>3.7</td>\n",
       "    </tr>\n",
       "    <tr>\n",
       "      <th>1</th>\n",
       "      <td>Oxhox Flip Essential BASS Stereo With FM 10 W ...</td>\n",
       "      <td>649</td>\n",
       "      <td>3.8</td>\n",
       "    </tr>\n",
       "    <tr>\n",
       "      <th>2</th>\n",
       "      <td>boAt Stone 350 10 W Bluetooth Speaker</td>\n",
       "      <td>1,599</td>\n",
       "      <td>4.3</td>\n",
       "    </tr>\n",
       "    <tr>\n",
       "      <th>3</th>\n",
       "      <td>F FERONS Wireless rechargeable portable Premiu...</td>\n",
       "      <td>429</td>\n",
       "      <td>3.9</td>\n",
       "    </tr>\n",
       "    <tr>\n",
       "      <th>4</th>\n",
       "      <td>F FERONS Wireless rechargeable portable Premiu...</td>\n",
       "      <td>429</td>\n",
       "      <td>3.9</td>\n",
       "    </tr>\n",
       "    <tr>\n",
       "      <th>...</th>\n",
       "      <td>...</td>\n",
       "      <td>...</td>\n",
       "      <td>...</td>\n",
       "    </tr>\n",
       "    <tr>\n",
       "      <th>995</th>\n",
       "      <td>Aroma Studio 1 Pro High Sound Quality With 6 H...</td>\n",
       "      <td>499</td>\n",
       "      <td>4</td>\n",
       "    </tr>\n",
       "    <tr>\n",
       "      <th>996</th>\n",
       "      <td>Barry John Muzik Tower Speaker with AUX, USB, ...</td>\n",
       "      <td>2,205</td>\n",
       "      <td>0</td>\n",
       "    </tr>\n",
       "    <tr>\n",
       "      <th>997</th>\n",
       "      <td>T-Series M-4444BT 4.1 Channel Bluetooth Multim...</td>\n",
       "      <td>4,740</td>\n",
       "      <td>4.1</td>\n",
       "    </tr>\n",
       "    <tr>\n",
       "      <th>998</th>\n",
       "      <td>Zoook Rocker Thunder Pro 30 W Bluetooth Party ...</td>\n",
       "      <td>3,499</td>\n",
       "      <td>4</td>\n",
       "    </tr>\n",
       "    <tr>\n",
       "      <th>999</th>\n",
       "      <td>U&amp;i Kingdom Series 8W Wireless Speaker with 10...</td>\n",
       "      <td>449</td>\n",
       "      <td>3.7</td>\n",
       "    </tr>\n",
       "  </tbody>\n",
       "</table>\n",
       "<p>1000 rows × 3 columns</p>\n",
       "</div>"
      ],
      "text/plain": [
       "                                                  name  price rating\n",
       "0        SHOPLINE SP-T-113-SPKR1 9 W Bluetooth Speaker    349    3.7\n",
       "1    Oxhox Flip Essential BASS Stereo With FM 10 W ...    649    3.8\n",
       "2                boAt Stone 350 10 W Bluetooth Speaker  1,599    4.3\n",
       "3    F FERONS Wireless rechargeable portable Premiu...    429    3.9\n",
       "4    F FERONS Wireless rechargeable portable Premiu...    429    3.9\n",
       "..                                                 ...    ...    ...\n",
       "995  Aroma Studio 1 Pro High Sound Quality With 6 H...    499      4\n",
       "996  Barry John Muzik Tower Speaker with AUX, USB, ...  2,205      0\n",
       "997  T-Series M-4444BT 4.1 Channel Bluetooth Multim...  4,740    4.1\n",
       "998  Zoook Rocker Thunder Pro 30 W Bluetooth Party ...  3,499      4\n",
       "999  U&i Kingdom Series 8W Wireless Speaker with 10...    449    3.7\n",
       "\n",
       "[1000 rows x 3 columns]"
      ]
     },
     "execution_count": 9,
     "metadata": {},
     "output_type": "execute_result"
    }
   ],
   "source": [
    "out"
   ]
  },
  {
   "cell_type": "code",
   "execution_count": null,
   "metadata": {},
   "outputs": [],
   "source": []
  }
 ],
 "metadata": {
  "interpreter": {
   "hash": "c4bb627c720bb325833297a37a3d07f2918af932b8d8e89a0df48100a492cd0a"
  },
  "kernelspec": {
   "display_name": "Python 3.10.2 64-bit",
   "language": "python",
   "name": "python3"
  },
  "language_info": {
   "codemirror_mode": {
    "name": "ipython",
    "version": 3
   },
   "file_extension": ".py",
   "mimetype": "text/x-python",
   "name": "python",
   "nbconvert_exporter": "python",
   "pygments_lexer": "ipython3",
   "version": "3.10.2"
  },
  "orig_nbformat": 4
 },
 "nbformat": 4,
 "nbformat_minor": 2
}
