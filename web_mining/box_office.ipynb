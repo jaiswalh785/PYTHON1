{
 "cells": [
  {
   "cell_type": "code",
   "execution_count": 6,
   "metadata": {},
   "outputs": [],
   "source": [
    "import requests\n",
    "from bs4 import BeautifulSoup\n",
    "import pandas as pd"
   ]
  },
  {
   "cell_type": "code",
   "execution_count": 7,
   "metadata": {},
   "outputs": [
    {
     "name": "stdout",
     "output_type": "stream",
     "text": [
      "data is loaded\n"
     ]
    }
   ],
   "source": [
    "page = \"https://www.imdb.com/chart/boxoffice/?ref_=nv_ch_cht\"\n",
    "response = requests.get(page)\n",
    "soup = BeautifulSoup(response.text,'lxml')\n",
    "print('data is loaded')"
   ]
  },
  {
   "cell_type": "code",
   "execution_count": 17,
   "metadata": {},
   "outputs": [],
   "source": [
    "target = soup.find('table',attrs={'class':'chart'}).tbody"
   ]
  },
  {
   "cell_type": "code",
   "execution_count": 11,
   "metadata": {},
   "outputs": [
    {
     "data": {
      "text/plain": [
       "10"
      ]
     },
     "execution_count": 11,
     "metadata": {},
     "output_type": "execute_result"
    }
   ],
   "source": [
    "rows = target.find_all('tr')\n",
    "len(rows)"
   ]
  },
  {
   "cell_type": "code",
   "execution_count": 12,
   "metadata": {},
   "outputs": [
    {
     "name": "stdout",
     "output_type": "stream",
     "text": [
      "Fantastic Beasts: The Secrets of Dumbledore\n",
      "$42.2M\n",
      "$42.2M\n",
      "1\n",
      "Sonic the Hedgehog 2\n",
      "$29.3M\n",
      "$118.9M\n",
      "2\n",
      "The Lost City\n",
      "$6.2M\n",
      "$78.3M\n",
      "4\n",
      "Everything Everywhere All at Once\n",
      "$6.2M\n",
      "$17.7M\n",
      "4\n",
      "Father Stu\n",
      "$5.4M\n",
      "$7.7M\n",
      "1\n",
      "Morbius\n",
      "$4.7M\n",
      "$65.1M\n",
      "3\n",
      "Ambulance\n",
      "$4.1M\n",
      "$15.7M\n",
      "2\n",
      "The Batman\n",
      "$3.8M\n",
      "$365.0M\n",
      "7\n",
      "K.G.F: Chapter 2\n",
      "$2.9M\n",
      "$2.9M\n",
      "1\n",
      "Uncharted\n",
      "$1.2M\n",
      "$145.0M\n",
      "9\n"
     ]
    }
   ],
   "source": [
    "movies = []\n",
    "for row in rows:\n",
    "    title = row.find('td',attrs={'class':'titleColumn'})\n",
    "    weekend = row.find('td',attrs={'class':'ratingColumn'})\n",
    "    gross = row.find_all('td',attrs={'class':'ratingColumn'})[-1]\n",
    "    week = row.find('td',attrs={'class':'weeksColumn'})\n",
    "    print(title.text.strip())\n",
    "    print(weekend.text.strip())\n",
    "    print(gross.text.strip())\n",
    "    print(week.text.strip())"
   ]
  },
  {
   "cell_type": "code",
   "execution_count": 18,
   "metadata": {},
   "outputs": [],
   "source": [
    "movies = []\n",
    "for row in rows:\n",
    "    title = row.find('td',attrs={'class':'titleColumn'})\n",
    "    weekend = row.find('td',attrs={'class':'ratingColumn'})\n",
    "    gross = row.find_all('td',attrs={'class':'ratingColumn'})[-1]\n",
    "    week = row.find('td',attrs={'class':'weeksColumn'})\n",
    "    movies.append({\n",
    "        'title':title.text.strip(),\n",
    "        'weekend':weekend.text.strip(),\n",
    "        'gross':gross.text.strip(),\n",
    "        'week':week.text.strip()\n",
    "    })\n",
    "\n",
    "data = pd.DataFrame(movies)\n",
    "data.to_csv('box_office.csv',index=False)"
   ]
  },
  {
   "cell_type": "code",
   "execution_count": null,
   "metadata": {},
   "outputs": [],
   "source": []
  }
 ],
 "metadata": {
  "interpreter": {
   "hash": "c4bb627c720bb325833297a37a3d07f2918af932b8d8e89a0df48100a492cd0a"
  },
  "kernelspec": {
   "display_name": "Python 3.10.2 64-bit",
   "language": "python",
   "name": "python3"
  },
  "language_info": {
   "codemirror_mode": {
    "name": "ipython",
    "version": 3
   },
   "file_extension": ".py",
   "mimetype": "text/x-python",
   "name": "python",
   "nbconvert_exporter": "python",
   "pygments_lexer": "ipython3",
   "version": "3.10.2"
  },
  "orig_nbformat": 4
 },
 "nbformat": 4,
 "nbformat_minor": 2
}
