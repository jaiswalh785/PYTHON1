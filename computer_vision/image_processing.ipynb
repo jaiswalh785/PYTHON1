{
 "cells": [
  {
   "cell_type": "markdown",
   "metadata": {},
   "source": [
    "### install the libary\n",
    "````\n",
    "pip install opencv-contrib-python pillow\n",
    "````"
   ]
  },
  {
   "cell_type": "markdown",
   "metadata": {},
   "source": [
    "- load the image\n",
    "- view the deatails\n",
    "- convert the grayscale(b/w)\n",
    "- convert to rgb\n",
    "- resize\n",
    "- merge\n",
    "- save"
   ]
  },
  {
   "cell_type": "code",
   "execution_count": 2,
   "metadata": {},
   "outputs": [],
   "source": [
    "import cv2"
   ]
  },
  {
   "cell_type": "code",
   "execution_count": 3,
   "metadata": {},
   "outputs": [
    {
     "data": {
      "text/plain": [
       "array([[[ 7, 11, 12],\n",
       "        [ 8, 12, 13],\n",
       "        [10, 11, 15],\n",
       "        ...,\n",
       "        [ 3,  5,  5],\n",
       "        [ 1,  5,  6],\n",
       "        [ 0,  4,  5]],\n",
       "\n",
       "       [[ 8, 12, 13],\n",
       "        [ 8, 12, 13],\n",
       "        [ 9, 10, 14],\n",
       "        ...,\n",
       "        [ 3,  5,  6],\n",
       "        [ 3,  5,  5],\n",
       "        [ 3,  6,  4]],\n",
       "\n",
       "       [[ 7, 10, 14],\n",
       "        [ 7, 10, 14],\n",
       "        [ 8,  9, 13],\n",
       "        ...,\n",
       "        [ 2,  4,  4],\n",
       "        [ 5,  5,  5],\n",
       "        [ 5,  5,  5]],\n",
       "\n",
       "       ...,\n",
       "\n",
       "       [[10, 10, 16],\n",
       "        [ 9,  9, 15],\n",
       "        [11, 12, 16],\n",
       "        ...,\n",
       "        [ 8, 11, 19],\n",
       "        [ 6, 12, 19],\n",
       "        [ 6, 12, 19]],\n",
       "\n",
       "       [[ 9, 12, 17],\n",
       "        [ 8, 11, 16],\n",
       "        [ 9, 12, 17],\n",
       "        ...,\n",
       "        [ 8, 12, 17],\n",
       "        [ 6, 12, 19],\n",
       "        [ 7, 13, 20]],\n",
       "\n",
       "       [[11, 11, 17],\n",
       "        [10, 10, 16],\n",
       "        [ 8, 11, 16],\n",
       "        ...,\n",
       "        [ 5, 11, 18],\n",
       "        [ 5, 11, 18],\n",
       "        [ 7, 12, 21]]], dtype=uint8)"
      ]
     },
     "execution_count": 3,
     "metadata": {},
     "output_type": "execute_result"
    }
   ],
   "source": [
    "cv2 .imread('ASH_3493.JPG')"
   ]
  },
  {
   "cell_type": "code",
   "execution_count": 7,
   "metadata": {},
   "outputs": [
    {
     "name": "stdout",
     "output_type": "stream",
     "text": [
      "(4016, 6016, 3)\n"
     ]
    }
   ],
   "source": [
    "im1 = cv2.imread('ASH_3493.JPG')\n",
    "print(im1.shape)"
   ]
  },
  {
   "cell_type": "code",
   "execution_count": 12,
   "metadata": {},
   "outputs": [],
   "source": [
    "cv2.imshow('image window', im1)\n",
    "cv2.waitKey(0)\n",
    "cv2.destroyAllWindows()"
   ]
  },
  {
   "cell_type": "code",
   "execution_count": 15,
   "metadata": {},
   "outputs": [
    {
     "data": {
      "text/plain": [
       "(985, 1737, 3)"
      ]
     },
     "execution_count": 15,
     "metadata": {},
     "output_type": "execute_result"
    }
   ],
   "source": [
    "im2 = cv2.imread('Screenshot (18).png')\n",
    "im2.shape"
   ]
  },
  {
   "cell_type": "code",
   "execution_count": 28,
   "metadata": {},
   "outputs": [
    {
     "ename": "AttributeError",
     "evalue": "module 'cv2' has no attribute 'destroyAllWindow'",
     "output_type": "error",
     "traceback": [
      "\u001b[1;31m---------------------------------------------------------------------------\u001b[0m",
      "\u001b[1;31mAttributeError\u001b[0m                            Traceback (most recent call last)",
      "\u001b[1;32mc:\\vscode\\PYTHON\\computer_vision\\image_processing.ipynb Cell 8'\u001b[0m in \u001b[0;36m<module>\u001b[1;34m\u001b[0m\n\u001b[0;32m      <a href='vscode-notebook-cell:/c%3A/vscode/PYTHON/computer_vision/image_processing.ipynb#ch0000011?line=1'>2</a>\u001b[0m cv2\u001b[39m.\u001b[39mimshow(\u001b[39m'\u001b[39m\u001b[39mgray\u001b[39m\u001b[39m'\u001b[39m, gray_im1)\n\u001b[0;32m      <a href='vscode-notebook-cell:/c%3A/vscode/PYTHON/computer_vision/image_processing.ipynb#ch0000011?line=2'>3</a>\u001b[0m cv2\u001b[39m.\u001b[39mwaitKey(\u001b[39m0\u001b[39m)\n\u001b[1;32m----> <a href='vscode-notebook-cell:/c%3A/vscode/PYTHON/computer_vision/image_processing.ipynb#ch0000011?line=3'>4</a>\u001b[0m cv2\u001b[39m.\u001b[39;49mdestroyAllWindow()\n",
      "\u001b[1;31mAttributeError\u001b[0m: module 'cv2' has no attribute 'destroyAllWindow'"
     ]
    }
   ],
   "source": [
    "gray_im1 = cv2.cvtColor(im1, cv2.COLOR_BGR2GRAY)\n",
    "cv2.imshow('gray', gray_im1)\n",
    "cv2.waitKey(0)\n",
    "cv2.destroyAllWindow()"
   ]
  },
  {
   "cell_type": "code",
   "execution_count": 18,
   "metadata": {},
   "outputs": [],
   "source": [
    "halved_im2 = cv2.resize(im2,(0,0), fx=0.15, fy=0.15)\n",
    "cv2.imshow('halved', halved_im2)\n",
    "cv2.waitKey(0)\n",
    "cv2.destroyAllWindows()"
   ]
  },
  {
   "cell_type": "code",
   "execution_count": 22,
   "metadata": {},
   "outputs": [
    {
     "data": {
      "text/plain": [
       "(200, 200, 3)"
      ]
     },
     "execution_count": 22,
     "metadata": {},
     "output_type": "execute_result"
    }
   ],
   "source": [
    "cv2.resize(im2,(200,200)).shape"
   ]
  },
  {
   "cell_type": "code",
   "execution_count": null,
   "metadata": {},
   "outputs": [],
   "source": []
  }
 ],
 "metadata": {
  "interpreter": {
   "hash": "c4bb627c720bb325833297a37a3d07f2918af932b8d8e89a0df48100a492cd0a"
  },
  "kernelspec": {
   "display_name": "Python 3.10.2 64-bit",
   "language": "python",
   "name": "python3"
  },
  "language_info": {
   "codemirror_mode": {
    "name": "ipython",
    "version": 3
   },
   "file_extension": ".py",
   "mimetype": "text/x-python",
   "name": "python",
   "nbconvert_exporter": "python",
   "pygments_lexer": "ipython3",
   "version": "3.10.2"
  },
  "orig_nbformat": 4
 },
 "nbformat": 4,
 "nbformat_minor": 2
}
